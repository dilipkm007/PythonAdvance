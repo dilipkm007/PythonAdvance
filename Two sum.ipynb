{
 "cells": [
  {
   "cell_type": "markdown",
   "id": "2dae4988",
   "metadata": {},
   "source": [
    "## Two sum\n",
    "Input: array = [2, 5, 3, 7, 4], target = 10\n",
    "Output: index of two elements which satisfied target = [2, 3]\n",
    "if not found any return -1"
   ]
  },
  {
   "cell_type": "code",
   "execution_count": 3,
   "id": "c8691914",
   "metadata": {},
   "outputs": [],
   "source": [
    "def foundTwoSum(arr, target):\n",
    "    seen = {}\n",
    "    for index in range(len(arr)):\n",
    "        required = target - arr[index]\n",
    "        if required in seen:\n",
    "            j = seen[required]\n",
    "            return [j, index]\n",
    "        else:\n",
    "          seen[arr[index]] = index\n",
    "    return -1"
   ]
  },
  {
   "cell_type": "code",
   "execution_count": 7,
   "id": "000d1d79",
   "metadata": {},
   "outputs": [
    {
     "data": {
      "text/plain": [
       "[1, 2]"
      ]
     },
     "execution_count": 7,
     "metadata": {},
     "output_type": "execute_result"
    }
   ],
   "source": [
    "foundTwoSum([2, 5, 3, 7, 4], 8)"
   ]
  },
  {
   "cell_type": "code",
   "execution_count": null,
   "id": "508f48b5",
   "metadata": {},
   "outputs": [],
   "source": []
  }
 ],
 "metadata": {
  "kernelspec": {
   "display_name": "Python 3 (ipykernel)",
   "language": "python",
   "name": "python3"
  },
  "language_info": {
   "codemirror_mode": {
    "name": "ipython",
    "version": 3
   },
   "file_extension": ".py",
   "mimetype": "text/x-python",
   "name": "python",
   "nbconvert_exporter": "python",
   "pygments_lexer": "ipython3",
   "version": "3.9.13"
  }
 },
 "nbformat": 4,
 "nbformat_minor": 5
}
