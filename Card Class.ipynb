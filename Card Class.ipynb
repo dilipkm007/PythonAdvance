{
 "cells": [
  {
   "cell_type": "markdown",
   "id": "3ebc17c0",
   "metadata": {},
   "source": [
    "## Card Class\n",
    "\n",
    "Create a class Card\n",
    "set the value of card\n",
    "set suit of card\n",
    "and 1 method to display card"
   ]
  },
  {
   "cell_type": "code",
   "execution_count": 18,
   "id": "759b4d8d",
   "metadata": {},
   "outputs": [
    {
     "name": "stdout",
     "output_type": "stream",
     "text": [
      "9 of heart\n",
      "A of Diamond\n"
     ]
    }
   ],
   "source": [
    "class Card(object):\n",
    "    \n",
    "    def __init__(self, value, suit):\n",
    "        self.value = value\n",
    "        self.suit = suit\n",
    "        \n",
    "    def getValue(self):\n",
    "        return self.value\n",
    "    \n",
    "    def getSuit(self):\n",
    "        return self.suit\n",
    "    \n",
    "    def __str__(self):\n",
    "        myCard = str(self.value) + ' of ' + str(self.suit)\n",
    "        return myCard\n",
    "\n",
    "        \n",
    "card = Card(9, 'heart')\n",
    "print(card)\n",
    "        \n",
    "card1 = Card('A', 'Diamond')\n",
    "print(card1)\n",
    "        "
   ]
  },
  {
   "cell_type": "code",
   "execution_count": null,
   "id": "f884638f",
   "metadata": {},
   "outputs": [],
   "source": []
  }
 ],
 "metadata": {
  "kernelspec": {
   "display_name": "Python 3 (ipykernel)",
   "language": "python",
   "name": "python3"
  },
  "language_info": {
   "codemirror_mode": {
    "name": "ipython",
    "version": 3
   },
   "file_extension": ".py",
   "mimetype": "text/x-python",
   "name": "python",
   "nbconvert_exporter": "python",
   "pygments_lexer": "ipython3",
   "version": "3.9.13"
  }
 },
 "nbformat": 4,
 "nbformat_minor": 5
}
