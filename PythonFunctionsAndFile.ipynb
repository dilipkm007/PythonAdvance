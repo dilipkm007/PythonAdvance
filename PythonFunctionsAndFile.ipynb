{
  "nbformat": 4,
  "nbformat_minor": 0,
  "metadata": {
    "colab": {
      "provenance": [],
      "authorship_tag": "ABX9TyOcN/dblTUjiAzbDMfVc2ce",
      "include_colab_link": true
    },
    "kernelspec": {
      "name": "python3",
      "display_name": "Python 3"
    },
    "language_info": {
      "name": "python"
    }
  },
  "cells": [
    {
      "cell_type": "markdown",
      "metadata": {
        "id": "view-in-github",
        "colab_type": "text"
      },
      "source": [
        "<a href=\"https://colab.research.google.com/github/dilipkm007/PythonAdvance/blob/main/PythonFunctionsAndFile.ipynb\" target=\"_parent\"><img src=\"https://colab.research.google.com/assets/colab-badge.svg\" alt=\"Open In Colab\"/></a>"
      ]
    },
    {
      "cell_type": "code",
      "execution_count": 1,
      "metadata": {
        "id": "dr0IQ-SrcQmL"
      },
      "outputs": [],
      "source": [
        " states = ['   Alabama ', 'Georgia!', 'Georgia', 'georgia', 'FlOrIda', 'south   carolina##', 'West virginia?']"
      ]
    },
    {
      "cell_type": "code",
      "source": [
        "import re\n",
        "\n",
        "def clean_strings(strings):\n",
        "  result = []\n",
        "  for value in strings:\n",
        "    value = value.strip()\n",
        "    value = re.sub('[!#?]', '', value)\n",
        "    value = value.title()\n",
        "    result.append(value)\n",
        "  return result"
      ],
      "metadata": {
        "id": "LIaBGFiccs7w"
      },
      "execution_count": 2,
      "outputs": []
    },
    {
      "cell_type": "code",
      "source": [
        "clean_strings(states)"
      ],
      "metadata": {
        "colab": {
          "base_uri": "https://localhost:8080/"
        },
        "id": "Hiq2RIRzdNCW",
        "outputId": "45af45f7-6134-46e4-9948-3c8254771369"
      },
      "execution_count": 3,
      "outputs": [
        {
          "output_type": "execute_result",
          "data": {
            "text/plain": [
              "['Alabama',\n",
              " 'Georgia',\n",
              " 'Georgia',\n",
              " 'Georgia',\n",
              " 'Florida',\n",
              " 'South   Carolina',\n",
              " 'West Virginia']"
            ]
          },
          "metadata": {},
          "execution_count": 3
        }
      ]
    },
    {
      "cell_type": "code",
      "source": [
        "def remove_punctuations(value):\n",
        "    return re.sub('!#?', '', value)"
      ],
      "metadata": {
        "id": "FroS7923dUvv"
      },
      "execution_count": 4,
      "outputs": []
    },
    {
      "cell_type": "code",
      "source": [
        "clean_ops = [str.strip, remove_punctuations, str.title]"
      ],
      "metadata": {
        "id": "rZ9ZvuF0djUs"
      },
      "execution_count": 6,
      "outputs": []
    },
    {
      "cell_type": "code",
      "source": [
        "def clean_strings2(strings, ops):\n",
        "  result = []\n",
        "  for value in strings:\n",
        "    for function in ops:\n",
        "      value = function(value)\n",
        "    result.append(value)\n",
        "  return result"
      ],
      "metadata": {
        "id": "FvNCm7hYdx-H"
      },
      "execution_count": 8,
      "outputs": []
    },
    {
      "cell_type": "code",
      "source": [
        "clean_strings2(states, clean_ops)"
      ],
      "metadata": {
        "colab": {
          "base_uri": "https://localhost:8080/"
        },
        "id": "ln9yRZTJeLTc",
        "outputId": "37c253e2-705c-4759-be80-932afaf04c7d"
      },
      "execution_count": 10,
      "outputs": [
        {
          "output_type": "execute_result",
          "data": {
            "text/plain": [
              "['Alabama',\n",
              " 'Georgia',\n",
              " 'Georgia',\n",
              " 'Georgia',\n",
              " 'Florida',\n",
              " 'South   Carolina##',\n",
              " 'West Virginia?']"
            ]
          },
          "metadata": {},
          "execution_count": 10
        }
      ]
    },
    {
      "cell_type": "markdown",
      "source": [
        "## Anonymous(Lambda) Functions"
      ],
      "metadata": {
        "id": "lgaLggGIfmUP"
      }
    },
    {
      "cell_type": "code",
      "source": [
        "def apply_to_list(some_list, f):\n",
        "  return [f(x) for x in some_list]\n",
        "\n",
        "ints = [4, 0, 1, 5, 6]\n",
        "apply_to_list(ints, lambda x: x * 2)"
      ],
      "metadata": {
        "colab": {
          "base_uri": "https://localhost:8080/"
        },
        "id": "n6qW-KQ9gOjY",
        "outputId": "9e3c457e-cbe8-49ec-be59-1f0f0b47e3d8"
      },
      "execution_count": 17,
      "outputs": [
        {
          "output_type": "execute_result",
          "data": {
            "text/plain": [
              "[8, 0, 2, 10, 12]"
            ]
          },
          "metadata": {},
          "execution_count": 17
        }
      ]
    },
    {
      "cell_type": "code",
      "source": [
        "strings = ['foo', 'cards', 'bar', 'aaaa', 'abab']"
      ],
      "metadata": {
        "id": "-1iP1ZaLg0ro"
      },
      "execution_count": 19,
      "outputs": []
    },
    {
      "cell_type": "code",
      "source": [
        "strings.sort(key = lambda x: len(set(list(x))))"
      ],
      "metadata": {
        "id": "n5AbIGKdg-c7"
      },
      "execution_count": 20,
      "outputs": []
    },
    {
      "cell_type": "code",
      "source": [
        "strings"
      ],
      "metadata": {
        "colab": {
          "base_uri": "https://localhost:8080/"
        },
        "id": "iGNljfBwhOJo",
        "outputId": "c5f384f6-dd57-4d10-90d7-7a09fdd183c4"
      },
      "execution_count": 21,
      "outputs": [
        {
          "output_type": "execute_result",
          "data": {
            "text/plain": [
              "['aaaa', 'foo', 'abab', 'bar', 'cards']"
            ]
          },
          "metadata": {},
          "execution_count": 21
        }
      ]
    },
    {
      "cell_type": "markdown",
      "source": [
        "## Currying\n",
        "Driving new function from existing ones by partial argument application"
      ],
      "metadata": {
        "id": "8mSVytDMh1uO"
      }
    },
    {
      "cell_type": "code",
      "source": [
        "# the parent function\n",
        "def add_numbers(x, y):\n",
        "  return x+y\n",
        "\n",
        "#Derived function\n",
        "add_five1 = lambda y: add_numbers(5, y) #Here y is curried"
      ],
      "metadata": {
        "id": "6rEf3rB1h4N4"
      },
      "execution_count": 25,
      "outputs": []
    },
    {
      "cell_type": "code",
      "source": [
        "add_five1(2)"
      ],
      "metadata": {
        "colab": {
          "base_uri": "https://localhost:8080/"
        },
        "id": "N3M70I2vi7Mo",
        "outputId": "1d364c80-f307-490d-804a-f7acead38b7a"
      },
      "execution_count": 26,
      "outputs": [
        {
          "output_type": "execute_result",
          "data": {
            "text/plain": [
              "7"
            ]
          },
          "metadata": {},
          "execution_count": 26
        }
      ]
    },
    {
      "cell_type": "code",
      "source": [
        "from functools import partial\n",
        "add_five = partial(add_numbers, 5)"
      ],
      "metadata": {
        "id": "d1zQWVm_iori"
      },
      "execution_count": 23,
      "outputs": []
    },
    {
      "cell_type": "code",
      "source": [
        "add_five(3)"
      ],
      "metadata": {
        "colab": {
          "base_uri": "https://localhost:8080/"
        },
        "id": "5T3pPy7gi364",
        "outputId": "7e7bea87-974d-40a1-c1a6-4064b7fcf5aa"
      },
      "execution_count": 24,
      "outputs": [
        {
          "output_type": "execute_result",
          "data": {
            "text/plain": [
              "8"
            ]
          },
          "metadata": {},
          "execution_count": 24
        }
      ]
    },
    {
      "cell_type": "markdown",
      "source": [
        "## Generator\n",
        "A generator is a concise way to construct a new iterable object. Whereas normal functions execute and return a single result at a time, generators return a sequence of multiple results lazily, pushing after each one entil the next one is requested. 'yield' and 'tuple' keywords are used for generator"
      ],
      "metadata": {
        "id": "adFbvkCejD4P"
      }
    },
    {
      "cell_type": "code",
      "source": [
        "def sequence(n=10):\n",
        "  print('Generating sequence from 1 to {0}'.format(n**2))\n",
        "  for i in range(1, n+1):\n",
        "    yield i ** 2"
      ],
      "metadata": {
        "id": "WQrpmocAjGL2"
      },
      "execution_count": 28,
      "outputs": []
    },
    {
      "cell_type": "code",
      "source": [
        "gen = sequence()\n",
        "gen"
      ],
      "metadata": {
        "colab": {
          "base_uri": "https://localhost:8080/"
        },
        "id": "Qd640z2tkbJB",
        "outputId": "448feb69-d832-46e3-e776-6c94099a2841"
      },
      "execution_count": 29,
      "outputs": [
        {
          "output_type": "execute_result",
          "data": {
            "text/plain": [
              "<generator object sequence at 0x7b62dcb7a730>"
            ]
          },
          "metadata": {},
          "execution_count": 29
        }
      ]
    },
    {
      "cell_type": "code",
      "source": [
        "for x in gen:\n",
        "  print(x, end=' ')"
      ],
      "metadata": {
        "colab": {
          "base_uri": "https://localhost:8080/"
        },
        "id": "PlmHE0Ibi_-B",
        "outputId": "291fb4da-8351-4889-fd5d-5daacb3fced5"
      },
      "execution_count": 30,
      "outputs": [
        {
          "output_type": "stream",
          "name": "stdout",
          "text": [
            "Generating sequence from 1 to 100\n",
            "1 4 9 16 25 36 49 64 81 100 "
          ]
        }
      ]
    },
    {
      "cell_type": "markdown",
      "source": [
        "# using Generator Expressions"
      ],
      "metadata": {
        "id": "YH8dcz_Tk0qO"
      }
    },
    {
      "cell_type": "code",
      "source": [
        "gen = (x**2 for x in range(11))\n",
        "gen\n"
      ],
      "metadata": {
        "colab": {
          "base_uri": "https://localhost:8080/"
        },
        "id": "uinTQcxhk76Q",
        "outputId": "4b24e72b-adc6-433b-ec41-f56a640f39f8"
      },
      "execution_count": 38,
      "outputs": [
        {
          "output_type": "execute_result",
          "data": {
            "text/plain": [
              "<generator object <genexpr> at 0x7b62dcb7b0d0>"
            ]
          },
          "metadata": {},
          "execution_count": 38
        }
      ]
    },
    {
      "cell_type": "code",
      "source": [
        "for x in gen:\n",
        "  print(x)"
      ],
      "metadata": {
        "colab": {
          "base_uri": "https://localhost:8080/"
        },
        "id": "6kg7L7-zlPN2",
        "outputId": "44c928dc-cf7b-40d5-a6f8-5c759c686510"
      },
      "execution_count": 39,
      "outputs": [
        {
          "output_type": "stream",
          "name": "stdout",
          "text": [
            "0\n",
            "1\n",
            "4\n",
            "9\n",
            "16\n",
            "25\n",
            "36\n",
            "49\n",
            "64\n",
            "81\n",
            "100\n"
          ]
        }
      ]
    },
    {
      "cell_type": "code",
      "source": [
        "def _make_gen():\n",
        "  for x in range(11):\n",
        "    yield x ** 2\n",
        "\n",
        "gen2 = _make_gen()\n",
        "for x in gen2:\n",
        "  print(x)"
      ],
      "metadata": {
        "colab": {
          "base_uri": "https://localhost:8080/"
        },
        "id": "vq24G_I1lU0k",
        "outputId": "0d800ec4-eccb-4849-b7a8-29461073b718"
      },
      "execution_count": 42,
      "outputs": [
        {
          "output_type": "stream",
          "name": "stdout",
          "text": [
            "0\n",
            "1\n",
            "4\n",
            "9\n",
            "16\n",
            "25\n",
            "36\n",
            "49\n",
            "64\n",
            "81\n",
            "100\n"
          ]
        }
      ]
    },
    {
      "cell_type": "code",
      "source": [
        "sum(x ** 2 for x in range(11))"
      ],
      "metadata": {
        "colab": {
          "base_uri": "https://localhost:8080/"
        },
        "id": "HWJxmaZzmB7E",
        "outputId": "162bb65a-05ee-4fc3-d02a-c0eac0f477e5"
      },
      "execution_count": 43,
      "outputs": [
        {
          "output_type": "execute_result",
          "data": {
            "text/plain": [
              "385"
            ]
          },
          "metadata": {},
          "execution_count": 43
        }
      ]
    },
    {
      "cell_type": "code",
      "source": [
        "dict((i, i ** 2) for i in range(5))"
      ],
      "metadata": {
        "colab": {
          "base_uri": "https://localhost:8080/"
        },
        "id": "weLuN6KCmMNh",
        "outputId": "780be947-07df-4563-a95d-46534fcedbb9"
      },
      "execution_count": 44,
      "outputs": [
        {
          "output_type": "execute_result",
          "data": {
            "text/plain": [
              "{0: 0, 1: 1, 2: 4, 3: 9, 4: 16}"
            ]
          },
          "metadata": {},
          "execution_count": 44
        }
      ]
    },
    {
      "cell_type": "markdown",
      "source": [
        "## itertools Module\n",
        "It has a collection of generators for many common data algorithms"
      ],
      "metadata": {
        "id": "-lVf0EB0mtgV"
      }
    },
    {
      "cell_type": "code",
      "source": [
        "import itertools"
      ],
      "metadata": {
        "id": "Ga641-afnAMF"
      },
      "execution_count": 45,
      "outputs": []
    },
    {
      "cell_type": "code",
      "source": [
        "first_letter = lambda x: x[0]"
      ],
      "metadata": {
        "id": "eGAuEX5dnD7m"
      },
      "execution_count": 46,
      "outputs": []
    },
    {
      "cell_type": "code",
      "source": [
        "names = ['Alan', 'Adam', 'Wes', 'Will', 'Albert', 'Steven']"
      ],
      "metadata": {
        "id": "uougNpganIuJ"
      },
      "execution_count": 48,
      "outputs": []
    },
    {
      "cell_type": "code",
      "source": [
        "for letter, names in itertools.groupby(names, first_letter):\n",
        "  print(letter, list(names))"
      ],
      "metadata": {
        "colab": {
          "base_uri": "https://localhost:8080/"
        },
        "id": "60JLjkJRmeG4",
        "outputId": "7b09200b-7b86-4eb3-ed0a-25cd0602f2a8"
      },
      "execution_count": 49,
      "outputs": [
        {
          "output_type": "stream",
          "name": "stdout",
          "text": [
            "A ['Alan', 'Adam']\n",
            "W ['Wes', 'Will']\n",
            "A ['Albert']\n",
            "S ['Steven']\n"
          ]
        }
      ]
    },
    {
      "cell_type": "markdown",
      "source": [
        "## Errors and Exceptions Handling"
      ],
      "metadata": {
        "id": "WBzZyT15oHm2"
      }
    },
    {
      "cell_type": "code",
      "source": [
        "def attempt_float(x):\n",
        "  try:\n",
        "    return float(x)\n",
        "  except:\n",
        "    return x"
      ],
      "metadata": {
        "id": "M5_WTyP3oIWP"
      },
      "execution_count": 51,
      "outputs": []
    },
    {
      "cell_type": "code",
      "source": [
        "attempt_float(\"1.2345\")"
      ],
      "metadata": {
        "colab": {
          "base_uri": "https://localhost:8080/"
        },
        "id": "ApcjMAzdnecH",
        "outputId": "7d664504-b883-492c-c0b7-049e681278db"
      },
      "execution_count": 52,
      "outputs": [
        {
          "output_type": "execute_result",
          "data": {
            "text/plain": [
              "1.2345"
            ]
          },
          "metadata": {},
          "execution_count": 52
        }
      ]
    },
    {
      "cell_type": "code",
      "source": [
        "attempt_float('something')"
      ],
      "metadata": {
        "colab": {
          "base_uri": "https://localhost:8080/",
          "height": 35
        },
        "id": "je5f0fkqopjK",
        "outputId": "21e3bee6-b413-49c3-a9a7-1239446a366c"
      },
      "execution_count": 53,
      "outputs": [
        {
          "output_type": "execute_result",
          "data": {
            "text/plain": [
              "'something'"
            ],
            "application/vnd.google.colaboratory.intrinsic+json": {
              "type": "string"
            }
          },
          "metadata": {},
          "execution_count": 53
        }
      ]
    },
    {
      "cell_type": "code",
      "source": [
        "def attemp_float2(x):\n",
        "  try:\n",
        "    return float(x)\n",
        "  except (ValueError, TypeError):\n",
        "    return x"
      ],
      "metadata": {
        "id": "iBHFVTRQouWJ"
      },
      "execution_count": 64,
      "outputs": []
    },
    {
      "cell_type": "code",
      "source": [
        "attemp_float2(\"1.2345\")"
      ],
      "metadata": {
        "colab": {
          "base_uri": "https://localhost:8080/"
        },
        "id": "AnBrRAo2om6D",
        "outputId": "6fc6bb33-b444-48bd-b54a-87b338577e23"
      },
      "execution_count": 58,
      "outputs": [
        {
          "output_type": "execute_result",
          "data": {
            "text/plain": [
              "1.2345"
            ]
          },
          "metadata": {},
          "execution_count": 58
        }
      ]
    },
    {
      "cell_type": "code",
      "source": [
        "attemp_float2('something')"
      ],
      "metadata": {
        "colab": {
          "base_uri": "https://localhost:8080/",
          "height": 35
        },
        "id": "yrNAuUpGpJ7O",
        "outputId": "a8d45111-81dd-4764-b361-85fa3a690c70"
      },
      "execution_count": 62,
      "outputs": [
        {
          "output_type": "execute_result",
          "data": {
            "text/plain": [
              "'something'"
            ],
            "application/vnd.google.colaboratory.intrinsic+json": {
              "type": "string"
            }
          },
          "metadata": {},
          "execution_count": 62
        }
      ]
    },
    {
      "cell_type": "code",
      "source": [
        "attemp_float2((1,2))"
      ],
      "metadata": {
        "colab": {
          "base_uri": "https://localhost:8080/"
        },
        "id": "zmOPT4yFpNYC",
        "outputId": "4a69b9ec-f684-46bb-955a-a6f26b8224ba"
      },
      "execution_count": 65,
      "outputs": [
        {
          "output_type": "execute_result",
          "data": {
            "text/plain": [
              "(1, 2)"
            ]
          },
          "metadata": {},
          "execution_count": 65
        }
      ]
    },
    {
      "cell_type": "code",
      "source": [
        "def attemp_float3(x):\n",
        "  try:\n",
        "    return float(x)\n",
        "  except:\n",
        "    print(\"oh! failed\")\n",
        "  else:\n",
        "    print(\"Succeeded\")\n",
        "  finally:\n",
        "    print(\"Finally Out\", x)"
      ],
      "metadata": {
        "id": "nGa8yh0tpcOO"
      },
      "execution_count": 66,
      "outputs": []
    },
    {
      "cell_type": "code",
      "source": [
        "attemp_float3(\"1.2345\")"
      ],
      "metadata": {
        "colab": {
          "base_uri": "https://localhost:8080/"
        },
        "id": "fFFlQvLgqSkZ",
        "outputId": "95cfe2eb-ae06-46ff-e48e-f2424d9388b3"
      },
      "execution_count": 67,
      "outputs": [
        {
          "output_type": "stream",
          "name": "stdout",
          "text": [
            "Finally Out 1.2345\n"
          ]
        },
        {
          "output_type": "execute_result",
          "data": {
            "text/plain": [
              "1.2345"
            ]
          },
          "metadata": {},
          "execution_count": 67
        }
      ]
    },
    {
      "cell_type": "code",
      "source": [
        "attemp_float3('something')"
      ],
      "metadata": {
        "colab": {
          "base_uri": "https://localhost:8080/"
        },
        "id": "KZYwZ_MgqTzn",
        "outputId": "db34d9c0-7743-4800-9033-4a5191392b73"
      },
      "execution_count": 68,
      "outputs": [
        {
          "output_type": "stream",
          "name": "stdout",
          "text": [
            "oh! failed\n",
            "Finally Out something\n"
          ]
        }
      ]
    },
    {
      "cell_type": "markdown",
      "source": [
        "## File and OS"
      ],
      "metadata": {
        "id": "p_VL7OsRrclS"
      }
    },
    {
      "cell_type": "code",
      "source": [
        "path = '/content/sample_data/anscombe.json'"
      ],
      "metadata": {
        "id": "bMc-0-aaq3VK"
      },
      "execution_count": 75,
      "outputs": []
    },
    {
      "cell_type": "code",
      "source": [
        "lines = [x.rstrip() for x in open(path)]"
      ],
      "metadata": {
        "id": "YxgzLLqXrnxs"
      },
      "execution_count": 78,
      "outputs": []
    },
    {
      "cell_type": "code",
      "source": [
        "lines"
      ],
      "metadata": {
        "colab": {
          "base_uri": "https://localhost:8080/"
        },
        "id": "nQtHZ7hmrkbI",
        "outputId": "cff9c20e-ee1c-4d91-92e0-32d457ee6b33"
      },
      "execution_count": 79,
      "outputs": [
        {
          "output_type": "execute_result",
          "data": {
            "text/plain": [
              "['[',\n",
              " '  {\"Series\":\"I\", \"X\":10.0, \"Y\":8.04},',\n",
              " '  {\"Series\":\"I\", \"X\":8.0, \"Y\":6.95},',\n",
              " '  {\"Series\":\"I\", \"X\":13.0, \"Y\":7.58},',\n",
              " '  {\"Series\":\"I\", \"X\":9.0, \"Y\":8.81},',\n",
              " '  {\"Series\":\"I\", \"X\":11.0, \"Y\":8.33},',\n",
              " '  {\"Series\":\"I\", \"X\":14.0, \"Y\":9.96},',\n",
              " '  {\"Series\":\"I\", \"X\":6.0, \"Y\":7.24},',\n",
              " '  {\"Series\":\"I\", \"X\":4.0, \"Y\":4.26},',\n",
              " '  {\"Series\":\"I\", \"X\":12.0, \"Y\":10.84},',\n",
              " '  {\"Series\":\"I\", \"X\":7.0, \"Y\":4.81},',\n",
              " '  {\"Series\":\"I\", \"X\":5.0, \"Y\":5.68},',\n",
              " '',\n",
              " '  {\"Series\":\"II\", \"X\":10.0, \"Y\":9.14},',\n",
              " '  {\"Series\":\"II\", \"X\":8.0, \"Y\":8.14},',\n",
              " '  {\"Series\":\"II\", \"X\":13.0, \"Y\":8.74},',\n",
              " '  {\"Series\":\"II\", \"X\":9.0, \"Y\":8.77},',\n",
              " '  {\"Series\":\"II\", \"X\":11.0, \"Y\":9.26},',\n",
              " '  {\"Series\":\"II\", \"X\":14.0, \"Y\":8.10},',\n",
              " '  {\"Series\":\"II\", \"X\":6.0, \"Y\":6.13},',\n",
              " '  {\"Series\":\"II\", \"X\":4.0, \"Y\":3.10},',\n",
              " '  {\"Series\":\"II\", \"X\":12.0, \"Y\":9.13},',\n",
              " '  {\"Series\":\"II\", \"X\":7.0, \"Y\":7.26},',\n",
              " '  {\"Series\":\"II\", \"X\":5.0, \"Y\":4.74},',\n",
              " '',\n",
              " '  {\"Series\":\"III\", \"X\":10.0, \"Y\":7.46},',\n",
              " '  {\"Series\":\"III\", \"X\":8.0, \"Y\":6.77},',\n",
              " '  {\"Series\":\"III\", \"X\":13.0, \"Y\":12.74},',\n",
              " '  {\"Series\":\"III\", \"X\":9.0, \"Y\":7.11},',\n",
              " '  {\"Series\":\"III\", \"X\":11.0, \"Y\":7.81},',\n",
              " '  {\"Series\":\"III\", \"X\":14.0, \"Y\":8.84},',\n",
              " '  {\"Series\":\"III\", \"X\":6.0, \"Y\":6.08},',\n",
              " '  {\"Series\":\"III\", \"X\":4.0, \"Y\":5.39},',\n",
              " '  {\"Series\":\"III\", \"X\":12.0, \"Y\":8.15},',\n",
              " '  {\"Series\":\"III\", \"X\":7.0, \"Y\":6.42},',\n",
              " '  {\"Series\":\"III\", \"X\":5.0, \"Y\":5.73},',\n",
              " '',\n",
              " '  {\"Series\":\"IV\", \"X\":8.0, \"Y\":6.58},',\n",
              " '  {\"Series\":\"IV\", \"X\":8.0, \"Y\":5.76},',\n",
              " '  {\"Series\":\"IV\", \"X\":8.0, \"Y\":7.71},',\n",
              " '  {\"Series\":\"IV\", \"X\":8.0, \"Y\":8.84},',\n",
              " '  {\"Series\":\"IV\", \"X\":8.0, \"Y\":8.47},',\n",
              " '  {\"Series\":\"IV\", \"X\":8.0, \"Y\":7.04},',\n",
              " '  {\"Series\":\"IV\", \"X\":8.0, \"Y\":5.25},',\n",
              " '  {\"Series\":\"IV\", \"X\":19.0, \"Y\":12.50},',\n",
              " '  {\"Series\":\"IV\", \"X\":8.0, \"Y\":5.56},',\n",
              " '  {\"Series\":\"IV\", \"X\":8.0, \"Y\":7.91},',\n",
              " '  {\"Series\":\"IV\", \"X\":8.0, \"Y\":6.89}',\n",
              " ']']"
            ]
          },
          "metadata": {},
          "execution_count": 79
        }
      ]
    },
    {
      "cell_type": "code",
      "source": [
        "f.close()"
      ],
      "metadata": {
        "id": "rS44nW_MsAXJ"
      },
      "execution_count": null,
      "outputs": []
    },
    {
      "cell_type": "code",
      "source": [
        "with open(path) as f: #Will automatic close files once done\n",
        "  line = [x.rstrip() for x in f]\n",
        "  print(lines)"
      ],
      "metadata": {
        "colab": {
          "base_uri": "https://localhost:8080/"
        },
        "id": "XTZ7FgCxsPz7",
        "outputId": "4851f5f4-7e8a-4cba-c7db-943294f1351f"
      },
      "execution_count": 81,
      "outputs": [
        {
          "output_type": "stream",
          "name": "stdout",
          "text": [
            "['[', '  {\"Series\":\"I\", \"X\":10.0, \"Y\":8.04},', '  {\"Series\":\"I\", \"X\":8.0, \"Y\":6.95},', '  {\"Series\":\"I\", \"X\":13.0, \"Y\":7.58},', '  {\"Series\":\"I\", \"X\":9.0, \"Y\":8.81},', '  {\"Series\":\"I\", \"X\":11.0, \"Y\":8.33},', '  {\"Series\":\"I\", \"X\":14.0, \"Y\":9.96},', '  {\"Series\":\"I\", \"X\":6.0, \"Y\":7.24},', '  {\"Series\":\"I\", \"X\":4.0, \"Y\":4.26},', '  {\"Series\":\"I\", \"X\":12.0, \"Y\":10.84},', '  {\"Series\":\"I\", \"X\":7.0, \"Y\":4.81},', '  {\"Series\":\"I\", \"X\":5.0, \"Y\":5.68},', '', '  {\"Series\":\"II\", \"X\":10.0, \"Y\":9.14},', '  {\"Series\":\"II\", \"X\":8.0, \"Y\":8.14},', '  {\"Series\":\"II\", \"X\":13.0, \"Y\":8.74},', '  {\"Series\":\"II\", \"X\":9.0, \"Y\":8.77},', '  {\"Series\":\"II\", \"X\":11.0, \"Y\":9.26},', '  {\"Series\":\"II\", \"X\":14.0, \"Y\":8.10},', '  {\"Series\":\"II\", \"X\":6.0, \"Y\":6.13},', '  {\"Series\":\"II\", \"X\":4.0, \"Y\":3.10},', '  {\"Series\":\"II\", \"X\":12.0, \"Y\":9.13},', '  {\"Series\":\"II\", \"X\":7.0, \"Y\":7.26},', '  {\"Series\":\"II\", \"X\":5.0, \"Y\":4.74},', '', '  {\"Series\":\"III\", \"X\":10.0, \"Y\":7.46},', '  {\"Series\":\"III\", \"X\":8.0, \"Y\":6.77},', '  {\"Series\":\"III\", \"X\":13.0, \"Y\":12.74},', '  {\"Series\":\"III\", \"X\":9.0, \"Y\":7.11},', '  {\"Series\":\"III\", \"X\":11.0, \"Y\":7.81},', '  {\"Series\":\"III\", \"X\":14.0, \"Y\":8.84},', '  {\"Series\":\"III\", \"X\":6.0, \"Y\":6.08},', '  {\"Series\":\"III\", \"X\":4.0, \"Y\":5.39},', '  {\"Series\":\"III\", \"X\":12.0, \"Y\":8.15},', '  {\"Series\":\"III\", \"X\":7.0, \"Y\":6.42},', '  {\"Series\":\"III\", \"X\":5.0, \"Y\":5.73},', '', '  {\"Series\":\"IV\", \"X\":8.0, \"Y\":6.58},', '  {\"Series\":\"IV\", \"X\":8.0, \"Y\":5.76},', '  {\"Series\":\"IV\", \"X\":8.0, \"Y\":7.71},', '  {\"Series\":\"IV\", \"X\":8.0, \"Y\":8.84},', '  {\"Series\":\"IV\", \"X\":8.0, \"Y\":8.47},', '  {\"Series\":\"IV\", \"X\":8.0, \"Y\":7.04},', '  {\"Series\":\"IV\", \"X\":8.0, \"Y\":5.25},', '  {\"Series\":\"IV\", \"X\":19.0, \"Y\":12.50},', '  {\"Series\":\"IV\", \"X\":8.0, \"Y\":5.56},', '  {\"Series\":\"IV\", \"X\":8.0, \"Y\":7.91},', '  {\"Series\":\"IV\", \"X\":8.0, \"Y\":6.89}', ']']\n"
          ]
        }
      ]
    },
    {
      "cell_type": "code",
      "source": [
        "f = open(path)\n",
        "f.read(10)\n"
      ],
      "metadata": {
        "colab": {
          "base_uri": "https://localhost:8080/",
          "height": 35
        },
        "id": "JrXKccqWwvsl",
        "outputId": "7569c215-5156-44aa-a515-0167fd5e274a"
      },
      "execution_count": 84,
      "outputs": [
        {
          "output_type": "execute_result",
          "data": {
            "text/plain": [
              "'[\\n  {\"Seri'"
            ],
            "application/vnd.google.colaboratory.intrinsic+json": {
              "type": "string"
            }
          },
          "metadata": {},
          "execution_count": 84
        }
      ]
    },
    {
      "cell_type": "code",
      "source": [
        "f2 = open(path, 'rb')\n",
        "f2.read(10)"
      ],
      "metadata": {
        "colab": {
          "base_uri": "https://localhost:8080/"
        },
        "id": "X0fednAww5Ig",
        "outputId": "339f5586-4aeb-4562-e2f2-cf4797f29cf9"
      },
      "execution_count": 85,
      "outputs": [
        {
          "output_type": "execute_result",
          "data": {
            "text/plain": [
              "b'[\\n  {\"Seri'"
            ]
          },
          "metadata": {},
          "execution_count": 85
        }
      ]
    },
    {
      "cell_type": "code",
      "source": [
        "f.tell()"
      ],
      "metadata": {
        "colab": {
          "base_uri": "https://localhost:8080/"
        },
        "id": "H99axf2mxFX0",
        "outputId": "8ceb20e6-f477-46cc-d4ec-4da00758050b"
      },
      "execution_count": 86,
      "outputs": [
        {
          "output_type": "execute_result",
          "data": {
            "text/plain": [
              "10"
            ]
          },
          "metadata": {},
          "execution_count": 86
        }
      ]
    },
    {
      "cell_type": "code",
      "source": [
        "f.seek(3)"
      ],
      "metadata": {
        "colab": {
          "base_uri": "https://localhost:8080/"
        },
        "id": "YpmolOIRxM4s",
        "outputId": "5b7e43b9-e83d-4d27-810d-c93d780162fb"
      },
      "execution_count": 87,
      "outputs": [
        {
          "output_type": "execute_result",
          "data": {
            "text/plain": [
              "3"
            ]
          },
          "metadata": {},
          "execution_count": 87
        }
      ]
    },
    {
      "cell_type": "code",
      "source": [
        "f.read(1)"
      ],
      "metadata": {
        "colab": {
          "base_uri": "https://localhost:8080/",
          "height": 35
        },
        "id": "iV90n5gWxXCn",
        "outputId": "a12050ce-8b35-458e-f9d6-8b3918ef8d8b"
      },
      "execution_count": 88,
      "outputs": [
        {
          "output_type": "execute_result",
          "data": {
            "text/plain": [
              "' '"
            ],
            "application/vnd.google.colaboratory.intrinsic+json": {
              "type": "string"
            }
          },
          "metadata": {},
          "execution_count": 88
        }
      ]
    },
    {
      "cell_type": "code",
      "source": [
        "f.tell()"
      ],
      "metadata": {
        "colab": {
          "base_uri": "https://localhost:8080/"
        },
        "id": "uZT6deA3xZmu",
        "outputId": "b4395084-6a5e-4ee3-a8c9-e3d6eaf65193"
      },
      "execution_count": 89,
      "outputs": [
        {
          "output_type": "execute_result",
          "data": {
            "text/plain": [
              "4"
            ]
          },
          "metadata": {},
          "execution_count": 89
        }
      ]
    },
    {
      "cell_type": "code",
      "source": [
        "f.close()\n",
        "f2.close()"
      ],
      "metadata": {
        "id": "_tsGGB3FxdJh"
      },
      "execution_count": 90,
      "outputs": []
    },
    {
      "cell_type": "code",
      "source": [
        "with open('tmp.txt', 'w') as handle:\n",
        "  handle.writelines(x for x in open(path) if len(x) > 1)"
      ],
      "metadata": {
        "id": "PT8FsVDSxiSR"
      },
      "execution_count": 91,
      "outputs": []
    },
    {
      "cell_type": "code",
      "source": [
        "with open('tmp.txt') as f:\n",
        "  linesA = f.readlines()"
      ],
      "metadata": {
        "id": "-4XENzOBx9Q1"
      },
      "execution_count": 92,
      "outputs": []
    },
    {
      "cell_type": "code",
      "source": [
        "linesA"
      ],
      "metadata": {
        "colab": {
          "base_uri": "https://localhost:8080/"
        },
        "id": "B96qi1WWyHiW",
        "outputId": "08d0e5bf-51cd-447c-a3dd-0c95cc1ee32c"
      },
      "execution_count": 93,
      "outputs": [
        {
          "output_type": "execute_result",
          "data": {
            "text/plain": [
              "['[\\n',\n",
              " '  {\"Series\":\"I\", \"X\":10.0, \"Y\":8.04},\\n',\n",
              " '  {\"Series\":\"I\", \"X\":8.0, \"Y\":6.95},\\n',\n",
              " '  {\"Series\":\"I\", \"X\":13.0, \"Y\":7.58},\\n',\n",
              " '  {\"Series\":\"I\", \"X\":9.0, \"Y\":8.81},\\n',\n",
              " '  {\"Series\":\"I\", \"X\":11.0, \"Y\":8.33},\\n',\n",
              " '  {\"Series\":\"I\", \"X\":14.0, \"Y\":9.96},\\n',\n",
              " '  {\"Series\":\"I\", \"X\":6.0, \"Y\":7.24},\\n',\n",
              " '  {\"Series\":\"I\", \"X\":4.0, \"Y\":4.26},\\n',\n",
              " '  {\"Series\":\"I\", \"X\":12.0, \"Y\":10.84},\\n',\n",
              " '  {\"Series\":\"I\", \"X\":7.0, \"Y\":4.81},\\n',\n",
              " '  {\"Series\":\"I\", \"X\":5.0, \"Y\":5.68},\\n',\n",
              " '  {\"Series\":\"II\", \"X\":10.0, \"Y\":9.14},\\n',\n",
              " '  {\"Series\":\"II\", \"X\":8.0, \"Y\":8.14},\\n',\n",
              " '  {\"Series\":\"II\", \"X\":13.0, \"Y\":8.74},\\n',\n",
              " '  {\"Series\":\"II\", \"X\":9.0, \"Y\":8.77},\\n',\n",
              " '  {\"Series\":\"II\", \"X\":11.0, \"Y\":9.26},\\n',\n",
              " '  {\"Series\":\"II\", \"X\":14.0, \"Y\":8.10},\\n',\n",
              " '  {\"Series\":\"II\", \"X\":6.0, \"Y\":6.13},\\n',\n",
              " '  {\"Series\":\"II\", \"X\":4.0, \"Y\":3.10},\\n',\n",
              " '  {\"Series\":\"II\", \"X\":12.0, \"Y\":9.13},\\n',\n",
              " '  {\"Series\":\"II\", \"X\":7.0, \"Y\":7.26},\\n',\n",
              " '  {\"Series\":\"II\", \"X\":5.0, \"Y\":4.74},\\n',\n",
              " '  {\"Series\":\"III\", \"X\":10.0, \"Y\":7.46},\\n',\n",
              " '  {\"Series\":\"III\", \"X\":8.0, \"Y\":6.77},\\n',\n",
              " '  {\"Series\":\"III\", \"X\":13.0, \"Y\":12.74},\\n',\n",
              " '  {\"Series\":\"III\", \"X\":9.0, \"Y\":7.11},\\n',\n",
              " '  {\"Series\":\"III\", \"X\":11.0, \"Y\":7.81},\\n',\n",
              " '  {\"Series\":\"III\", \"X\":14.0, \"Y\":8.84},\\n',\n",
              " '  {\"Series\":\"III\", \"X\":6.0, \"Y\":6.08},\\n',\n",
              " '  {\"Series\":\"III\", \"X\":4.0, \"Y\":5.39},\\n',\n",
              " '  {\"Series\":\"III\", \"X\":12.0, \"Y\":8.15},\\n',\n",
              " '  {\"Series\":\"III\", \"X\":7.0, \"Y\":6.42},\\n',\n",
              " '  {\"Series\":\"III\", \"X\":5.0, \"Y\":5.73},\\n',\n",
              " '  {\"Series\":\"IV\", \"X\":8.0, \"Y\":6.58},\\n',\n",
              " '  {\"Series\":\"IV\", \"X\":8.0, \"Y\":5.76},\\n',\n",
              " '  {\"Series\":\"IV\", \"X\":8.0, \"Y\":7.71},\\n',\n",
              " '  {\"Series\":\"IV\", \"X\":8.0, \"Y\":8.84},\\n',\n",
              " '  {\"Series\":\"IV\", \"X\":8.0, \"Y\":8.47},\\n',\n",
              " '  {\"Series\":\"IV\", \"X\":8.0, \"Y\":7.04},\\n',\n",
              " '  {\"Series\":\"IV\", \"X\":8.0, \"Y\":5.25},\\n',\n",
              " '  {\"Series\":\"IV\", \"X\":19.0, \"Y\":12.50},\\n',\n",
              " '  {\"Series\":\"IV\", \"X\":8.0, \"Y\":5.56},\\n',\n",
              " '  {\"Series\":\"IV\", \"X\":8.0, \"Y\":7.91},\\n',\n",
              " '  {\"Series\":\"IV\", \"X\":8.0, \"Y\":6.89}\\n',\n",
              " ']\\n']"
            ]
          },
          "metadata": {},
          "execution_count": 93
        }
      ]
    }
  ]
}