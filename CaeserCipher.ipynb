{
 "cells": [
  {
   "cell_type": "markdown",
   "id": "d102791b",
   "metadata": {},
   "source": [
    "## CaeserCipher\n",
    "Encryption by n char\n",
    "if n = 3\n",
    "means a = d,\n",
    "b = e,\n",
    "c = f\n",
    "\n",
    "example: Encryption by 3 char\n",
    "input: \"Hello\"\n",
    "output1: \"khoor\"\n",
    "Decrypt encrypted message \n",
    "input: \"khoor\"\n",
    "output2: \"Hello\""
   ]
  },
  {
   "cell_type": "code",
   "execution_count": 31,
   "id": "7cdadf62",
   "metadata": {},
   "outputs": [],
   "source": [
    "albhabates = 'abcdefghijklmnopqrstuvwxyz'"
   ]
  },
  {
   "cell_type": "code",
   "execution_count": 37,
   "id": "7076393d",
   "metadata": {},
   "outputs": [],
   "source": [
    "input_text = 'Hello'\n",
    "sb = 3"
   ]
  },
  {
   "cell_type": "code",
   "execution_count": 38,
   "id": "fb62b0c7",
   "metadata": {},
   "outputs": [],
   "source": [
    "def shift_by(i):\n",
    "    return i%26"
   ]
  },
  {
   "cell_type": "code",
   "execution_count": 39,
   "id": "72d86d45",
   "metadata": {},
   "outputs": [],
   "source": [
    "def CaeserCipherAlgo(text, shiftBy):\n",
    "    text = text.lower()\n",
    "    output = ''\n",
    "    for char in text:\n",
    "        if char not in albhabates:\n",
    "            output += char\n",
    "            continue\n",
    "        alpha_index = albhabates.find(char)\n",
    "        output = output + albhabates[shift_by(alpha_index + shiftBy)]\n",
    "    return output"
   ]
  },
  {
   "cell_type": "code",
   "execution_count": 40,
   "id": "e1522b98",
   "metadata": {},
   "outputs": [
    {
     "data": {
      "text/plain": [
       "'def'"
      ]
     },
     "execution_count": 40,
     "metadata": {},
     "output_type": "execute_result"
    }
   ],
   "source": [
    "output = CaeserCipherAlgo(input_text, sb)\n",
    "output"
   ]
  },
  {
   "cell_type": "code",
   "execution_count": 36,
   "id": "7e007cf4",
   "metadata": {},
   "outputs": [
    {
     "data": {
      "text/plain": [
       "'hello'"
      ]
     },
     "execution_count": 36,
     "metadata": {},
     "output_type": "execute_result"
    }
   ],
   "source": [
    "CaeserCipherAlgo(output, -sb)"
   ]
  },
  {
   "cell_type": "code",
   "execution_count": null,
   "id": "2a570e13",
   "metadata": {},
   "outputs": [],
   "source": []
  }
 ],
 "metadata": {
  "kernelspec": {
   "display_name": "Python 3 (ipykernel)",
   "language": "python",
   "name": "python3"
  },
  "language_info": {
   "codemirror_mode": {
    "name": "ipython",
    "version": 3
   },
   "file_extension": ".py",
   "mimetype": "text/x-python",
   "name": "python",
   "nbconvert_exporter": "python",
   "pygments_lexer": "ipython3",
   "version": "3.9.13"
  }
 },
 "nbformat": 4,
 "nbformat_minor": 5
}
