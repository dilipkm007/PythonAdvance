{
 "cells": [
  {
   "cell_type": "markdown",
   "id": "949d68e5",
   "metadata": {},
   "source": [
    "## Two sum\n",
    "Input: array = [2, 5, 3, 7, 4], target = 10\n",
    "Output: index of two elements which satisfied target = [2, 3]\n",
    "if not found any return -1"
   ]
  },
  {
   "cell_type": "code",
   "execution_count": null,
   "id": "ba0d4edc",
   "metadata": {},
   "outputs": [],
   "source": [
    "def foundTwoSum(arr, targer):\n",
    "    seen = {}\n",
    "    for index in range(len(arr)):\n",
    "        required = target - arr[index]\n",
    "        if required in seen:\n",
    "            j = seen[required]\n",
    "            return [j, index]\n",
    "        else:\n",
    "          seen[arr[index]]  = index"
   ]
  }
 ],
 "metadata": {
  "kernelspec": {
   "display_name": "Python 3 (ipykernel)",
   "language": "python",
   "name": "python3"
  },
  "language_info": {
   "codemirror_mode": {
    "name": "ipython",
    "version": 3
   },
   "file_extension": ".py",
   "mimetype": "text/x-python",
   "name": "python",
   "nbconvert_exporter": "python",
   "pygments_lexer": "ipython3",
   "version": "3.9.13"
  }
 },
 "nbformat": 4,
 "nbformat_minor": 5
}
